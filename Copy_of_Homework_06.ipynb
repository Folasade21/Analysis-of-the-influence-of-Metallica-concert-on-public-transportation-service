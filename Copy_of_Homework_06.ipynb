{
  "nbformat": 4,
  "nbformat_minor": 0,
  "metadata": {
    "colab": {
      "name": "Copy of Homework_06.ipynb",
      "provenance": [],
      "collapsed_sections": [
        "LW3lVqBXqQBE"
      ],
      "include_colab_link": true
    },
    "kernelspec": {
      "display_name": "Python 3",
      "language": "python",
      "name": "python3"
    },
    "language_info": {
      "codemirror_mode": {
        "name": "ipython",
        "version": 3
      },
      "file_extension": ".py",
      "mimetype": "text/x-python",
      "name": "python",
      "nbconvert_exporter": "python",
      "pygments_lexer": "ipython3",
      "version": "3.6.9"
    }
  },
  "cells": [
    {
      "cell_type": "markdown",
      "metadata": {
        "id": "view-in-github",
        "colab_type": "text"
      },
      "source": [
        "<a href=\"https://colab.research.google.com/github/Folasade21/Analysis-of-the-influence-of-Metallica-concert-on-public-transportation-service/blob/master/Copy_of_Homework_06.ipynb\" target=\"_parent\"><img src=\"https://colab.research.google.com/assets/colab-badge.svg\" alt=\"Open In Colab\"/></a>"
      ]
    },
    {
      "cell_type": "markdown",
      "metadata": {
        "id": "PKhkIe6LqP6j"
      },
      "source": [
        "<div class=\"alert alert-block alert-info\"><b></b>\n",
        "<h1><center> <font color='black'> Homework 06</font></center></h1>\n",
        "<h2><center> <font color='black'> Brand Value Monitoring, Fairness & Interpretability</font></center></h2>    \n",
        "<h2><center> <font color='black'> MTAT.03.319 - Business Data Analytics</font></center></h2>\n",
        "<h2><center> <font color='black'> University of Tartu - Spring 2021</font></center></h2>\n",
        "</div>"
      ]
    },
    {
      "cell_type": "markdown",
      "metadata": {
        "id": "_eSWkN6YqP6o"
      },
      "source": [
        "# Homework Instructions"
      ]
    },
    {
      "cell_type": "markdown",
      "metadata": {
        "id": "8iFA9QAWqP6s"
      },
      "source": [
        "# Homework instructions\n",
        "\n",
        "- Please provide the names and student IDs of the team-members (Maximum 2 person) in the field \"Team mates\" below. If you are not working in a team please insert only your name and student ID. \n",
        "\n",
        "- The accepted submission formats are Colab links or .ipynb files. If you are submitting Colab links please make sure that the privacy settings for the file is public so we can access your code. \n",
        "\n",
        "- The submission will automatically close on <font color='red'>**16 May at 23:59**</font>, so please make sure to submit before the deadline. \n",
        "\n",
        "- ONLY one of the teammates should submit the homework. We will grade the homework and the marks and feedback is applied for both the team members. So please communicate with your team member about marks and feedback if you are submit the homework.\n",
        "\n",
        "- If a question is not clear, please ask us in Moodle ONLY. \n",
        "\n",
        "- After you have finished solving the Homework, please restart the Kernel and run all the cells to check if there is any persisting issues. \n",
        "\n",
        "- Plagiarism is <font color='red'>**PROHIBITED**</font>. Any form of plagiarism will be dealt according to the university policy (https://www.ut.ee/en/current-students/academic-fraud).\n"
      ]
    },
    {
      "cell_type": "markdown",
      "metadata": {
        "id": "ZSPSsMy0qP6v"
      },
      "source": [
        "**<h2><font color='red'>Team mates:</font></h2>**\n",
        "\n",
        "\n",
        "<font color='red'>Name: </font>&emsp;   <font color='red'>Student ID: </font>\n",
        "\n",
        "\n",
        "<font color='red'>Name: </font>&emsp;   <font color='red'>Student ID: </font>"
      ]
    },
    {
      "cell_type": "markdown",
      "metadata": {
        "id": "32O8nXIEsFzx"
      },
      "source": [
        "### The homework is divided into four sections and the points are distributed as below:\n",
        "<pre>\n",
        "- Brand Value Monitoring        -> 6 points\n",
        "- Fairness & Interpretability   -> 4 points\n",
        "__________________________________________\n",
        "Total                           -> 10 points\n",
        "</pre>"
      ]
    },
    {
      "cell_type": "markdown",
      "metadata": {
        "id": "L_27zGUHqP6z"
      },
      "source": [
        "# 1. Brand Value Monitoring (6 points)\n",
        "You are going to use two annotated datasets containing tweets about Apple stock (AAPL) and the sentiment it represents (postive, negative, neutral)"
      ]
    },
    {
      "cell_type": "markdown",
      "metadata": {
        "id": "Lo64-Z7HqP7G"
      },
      "source": [
        "**1.1 There are two datasets with 1000 rows each. Please concatenate them together so that you have 2000 rows. (0.2 Points)**"
      ]
    },
    {
      "cell_type": "code",
      "metadata": {
        "id": "bsEGfArnqP7I",
        "scrolled": true
      },
      "source": [
        "import pandas as pd\n",
        "import numpy as np\n",
        "\n",
        "\n",
        "a1 = pd.read_csv('Apple1.csv', encoding='latin-1') #DO NOT change the encoding method, may give you error\n",
        "a2 = pd.read_csv('Apple2.csv', encoding='latin-1') #DO NOT change the encoding method, may give you error\n",
        "\n",
        "#Concatenate\n"
      ],
      "execution_count": null,
      "outputs": []
    },
    {
      "cell_type": "markdown",
      "metadata": {
        "id": "YyLxuY26sFz7"
      },
      "source": [
        "**1.2 Plot a distribution of ```sentiment``` unique values. (0.2 Points)**"
      ]
    },
    {
      "cell_type": "code",
      "metadata": {
        "id": "sYakTVhNsF0x"
      },
      "source": [
        ""
      ],
      "execution_count": null,
      "outputs": []
    },
    {
      "cell_type": "markdown",
      "metadata": {
        "id": "X1leKYBZsF0x"
      },
      "source": [
        "**1.3 Drop the unecessary column/s. Perform the following preprocessings to the ```text``` column. (1.6 Points)**\n",
        "- change all characters to lowercase\n",
        "- remove URLs\n",
        "- remove words starting with ‘@’\n",
        "- remove words starting with ‘$’ \n",
        "- remove punctuation\n",
        "- remove stopwords\n",
        "- remove numbers\n",
        "- remove whitespaces\n",
        "Don’t forget to inspect"
      ]
    },
    {
      "cell_type": "code",
      "metadata": {
        "id": "cyBdrUFesF0y"
      },
      "source": [
        ""
      ],
      "execution_count": null,
      "outputs": []
    },
    {
      "cell_type": "markdown",
      "metadata": {
        "id": "L3sHiczDsF0z"
      },
      "source": [
        "**1.4 Create wordclouds for each sentiment group. Find out the most frequent word for each group. You should have three plot for three sentiment groups. (1.5 Points)**"
      ]
    },
    {
      "cell_type": "code",
      "metadata": {
        "id": "RXVTEtXvsF01"
      },
      "source": [
        ""
      ],
      "execution_count": null,
      "outputs": []
    },
    {
      "cell_type": "markdown",
      "metadata": {
        "id": "zEEU63x-sF02"
      },
      "source": [
        "**1.5 Apply TF-IDF technique on the textual data and split the dataset between train and test (80/20 ratio) (1.0 Points)**"
      ]
    },
    {
      "cell_type": "code",
      "metadata": {
        "id": "61WFF4iksF03"
      },
      "source": [
        ""
      ],
      "execution_count": null,
      "outputs": []
    },
    {
      "cell_type": "markdown",
      "metadata": {
        "id": "6JZIwOdcsF04"
      },
      "source": [
        "**1.6 Train a random forest model with the prepared data and show the classification report on the test data (0.5 Points)**"
      ]
    },
    {
      "cell_type": "code",
      "metadata": {
        "id": "goQNresrsF05"
      },
      "source": [
        ""
      ],
      "execution_count": null,
      "outputs": []
    },
    {
      "cell_type": "markdown",
      "metadata": {
        "id": "ah-WpzvZsF07"
      },
      "source": [
        "**1.7 Train an SVM model with the prepared data and show the classification report on the test data (0.5 Points)**"
      ]
    },
    {
      "cell_type": "code",
      "metadata": {
        "id": "TARdONu3sF08"
      },
      "source": [
        ""
      ],
      "execution_count": null,
      "outputs": []
    },
    {
      "cell_type": "markdown",
      "metadata": {
        "id": "1ztT02AhsF09"
      },
      "source": [
        "**1.8 Which model performed better? Consider the f1 metrics and the time it took to train the model. Which model would you use in a real-life scenario and why? (0.5 Points)**"
      ]
    },
    {
      "cell_type": "markdown",
      "metadata": {
        "id": "KHYtvz_0sF0-"
      },
      "source": [
        "**<font color='red'>Answer:</font>**"
      ]
    },
    {
      "cell_type": "markdown",
      "metadata": {
        "id": "vXO3KzzRqP-P"
      },
      "source": [
        "# 2. Fairness & Interpretability ( 4 points)"
      ]
    },
    {
      "cell_type": "markdown",
      "metadata": {
        "id": "CD13zq7dqP-T"
      },
      "source": [
        "In this section you are going to use the standard German Credit dataset used to bechmark many model interpretability techniques. The daset contains 1000 records of loan applications associatid with a risk score: Good or Bad."
      ]
    },
    {
      "cell_type": "markdown",
      "metadata": {
        "id": "JtbM9PjSqP-Y"
      },
      "source": [
        "**2.1 The dataset has empty values. Choose an imputation method of your choice for each column. (0.5 points)**"
      ]
    },
    {
      "cell_type": "code",
      "metadata": {
        "id": "1IQCdkK1qP-b"
      },
      "source": [
        "#!pip install sklearn_pandas\n",
        "from sklearn_pandas import CategoricalImputer\n",
        "import pandas as pd\n",
        "german_data = pd.read_csv('german_credit_data.csv', sep=',')\n"
      ],
      "execution_count": null,
      "outputs": []
    },
    {
      "cell_type": "markdown",
      "metadata": {
        "id": "W-oNAEq0qP-y"
      },
      "source": [
        "**2.2 Plot the values of the column ```Age``` against the ```Risk``` column. Do you think there exist  bias in this dataset? Choose the appropriate plot to address the problem. (0.5 points)**"
      ]
    },
    {
      "cell_type": "code",
      "metadata": {
        "id": "yqf04FLVqP-z"
      },
      "source": [
        ""
      ],
      "execution_count": null,
      "outputs": []
    },
    {
      "cell_type": "markdown",
      "metadata": {
        "id": "gAHod7xQqP-9"
      },
      "source": [
        "<font color='red'> **Answer:** "
      ]
    },
    {
      "cell_type": "markdown",
      "metadata": {
        "id": "Fk7vkSttqP_U"
      },
      "source": [
        "**2.3 Perform label encoding. Split the dataset in train/test (80/20 ratio) set, keep the random state 99. Train the XGBoost classifier below and predict the results in test set. Plot the classifcation report. (0.5 points)**"
      ]
    },
    {
      "cell_type": "code",
      "metadata": {
        "id": "A5MHWOG_qP_V"
      },
      "source": [
        ""
      ],
      "execution_count": null,
      "outputs": []
    },
    {
      "cell_type": "markdown",
      "metadata": {
        "id": "nKJ_FTDfqP_r"
      },
      "source": [
        "**2.4 Plot 3 types of feature importance (the parameter importance_type='weight', 'gain', 'cover') given by XGBoost and interpret the results. (0.5 points)**"
      ]
    },
    {
      "cell_type": "code",
      "metadata": {
        "id": "iktnVZ7iqP_s"
      },
      "source": [
        "#Example: xgb.plot_importance(..., importance_type='weight', ...)\n",
        "#Example: xgb.plot_importance(..., importance_type='gain', ...)\n",
        "#Example: xgb.plot_importance(..., importance_type='cover', ...)"
      ],
      "execution_count": null,
      "outputs": []
    },
    {
      "cell_type": "markdown",
      "metadata": {
        "id": "dMHWoH3mqP_-"
      },
      "source": [
        "<font color='red'> **Answer:**\n"
      ]
    },
    {
      "cell_type": "markdown",
      "metadata": {
        "id": "2eHQv7TAqQAA"
      },
      "source": [
        "**2.5 Use eli5 to analyze the most important features of a sample where the credit score is Bad and another sample where the credit score is Good. Explain briefly the results (0.5 points)**"
      ]
    },
    {
      "cell_type": "code",
      "metadata": {
        "id": "ivA3IkjaqQAC",
        "outputId": "0605d637-1823-4074-c0ba-c3fb67521f86"
      },
      "source": [
        "#!pip install eli5\n",
        "import eli5"
      ],
      "execution_count": null,
      "outputs": [
        {
          "output_type": "stream",
          "text": [
            "/home/hasan/.local/lib/python3.6/site-packages/sklearn/utils/deprecation.py:144: FutureWarning: The sklearn.metrics.scorer module is  deprecated in version 0.22 and will be removed in version 0.24. The corresponding classes / functions should instead be imported from sklearn.metrics. Anything that cannot be imported from sklearn.metrics is now part of the private API.\n",
            "  warnings.warn(message, FutureWarning)\n",
            "/home/hasan/.local/lib/python3.6/site-packages/sklearn/utils/deprecation.py:144: FutureWarning: The sklearn.feature_selection.base module is  deprecated in version 0.22 and will be removed in version 0.24. The corresponding classes / functions should instead be imported from sklearn.feature_selection. Anything that cannot be imported from sklearn.feature_selection is now part of the private API.\n",
            "  warnings.warn(message, FutureWarning)\n",
            "Using TensorFlow backend.\n"
          ],
          "name": "stderr"
        }
      ]
    },
    {
      "cell_type": "code",
      "metadata": {
        "id": "5Nht9opCsF14"
      },
      "source": [
        ""
      ],
      "execution_count": null,
      "outputs": []
    },
    {
      "cell_type": "markdown",
      "metadata": {
        "id": "xDrSeExbqQAW"
      },
      "source": [
        "<font color='red'> **Answer:** "
      ]
    },
    {
      "cell_type": "markdown",
      "metadata": {
        "id": "QRn01tqLqQAY"
      },
      "source": [
        "**2.6 Use SHAP to explain the prediction of the model for a sample where the credit score is Bad and another sample where the credit score is Good. Explain briefly the results.(0.5 points)**"
      ]
    },
    {
      "cell_type": "code",
      "metadata": {
        "id": "PwbnwPsNqQAa",
        "outputId": "2d50efba-6075-459e-d1de-89fac0598f93"
      },
      "source": [
        "#!pip install shap\n",
        "import shap\n"
      ],
      "execution_count": null,
      "outputs": [
        {
          "output_type": "stream",
          "text": [
            "In /home/hasan/.local/lib/python3.6/site-packages/matplotlib/mpl-data/stylelib/_classic_test.mplstyle: \n",
            "The text.latex.unicode rcparam was deprecated in Matplotlib 3.0 and will be removed in 3.2.\n",
            "In /home/hasan/.local/lib/python3.6/site-packages/matplotlib/mpl-data/stylelib/_classic_test.mplstyle: \n",
            "The savefig.frameon rcparam was deprecated in Matplotlib 3.1 and will be removed in 3.3.\n",
            "In /home/hasan/.local/lib/python3.6/site-packages/matplotlib/mpl-data/stylelib/_classic_test.mplstyle: \n",
            "The pgf.debug rcparam was deprecated in Matplotlib 3.0 and will be removed in 3.2.\n",
            "In /home/hasan/.local/lib/python3.6/site-packages/matplotlib/mpl-data/stylelib/_classic_test.mplstyle: \n",
            "The verbose.level rcparam was deprecated in Matplotlib 3.1 and will be removed in 3.3.\n",
            "In /home/hasan/.local/lib/python3.6/site-packages/matplotlib/mpl-data/stylelib/_classic_test.mplstyle: \n",
            "The verbose.fileo rcparam was deprecated in Matplotlib 3.1 and will be removed in 3.3.\n"
          ],
          "name": "stderr"
        }
      ]
    },
    {
      "cell_type": "markdown",
      "metadata": {
        "id": "adgX29y6qQAk"
      },
      "source": [
        "<font color='red'> **Answer:**\n"
      ]
    },
    {
      "cell_type": "markdown",
      "metadata": {
        "id": "OvkC298cqQAm"
      },
      "source": [
        "**2.7 Use SHAP to explain the prediction of the model for  the first 250 samples. Based on the similar patterns explain briefly the results(0.5 points)**"
      ]
    },
    {
      "cell_type": "code",
      "metadata": {
        "id": "KxYusrBqqQAp"
      },
      "source": [
        ""
      ],
      "execution_count": null,
      "outputs": []
    },
    {
      "cell_type": "markdown",
      "metadata": {
        "id": "GWkDRnS2qQAy"
      },
      "source": [
        "<font color='red'> **Answer:** "
      ]
    },
    {
      "cell_type": "markdown",
      "metadata": {
        "id": "8dZWQAGoqQAz"
      },
      "source": [
        "**2.8 Plot as a bar chart of the feature importances received from SHAP. Finally compare these results  with the result from 2.6 and 2.7. (0.5 points)**"
      ]
    },
    {
      "cell_type": "code",
      "metadata": {
        "id": "ZogFdG2gqQA1"
      },
      "source": [
        ""
      ],
      "execution_count": null,
      "outputs": []
    },
    {
      "cell_type": "markdown",
      "metadata": {
        "id": "6l44otjAqQBD"
      },
      "source": [
        "<font color='red'> **Answer:** \n",
        "\n"
      ]
    },
    {
      "cell_type": "markdown",
      "metadata": {
        "id": "LW3lVqBXqQBE"
      },
      "source": [
        "## How long did it take you to solve the homework?\n",
        "\n",
        "* Please answer as precisely as you can. It does not affect your points or grade in any way. It is okay, if it took 0.5 hours or 24 hours. The collected information will be used to improve future homeworks.\n",
        "\n",
        "<font color='red'> **Answer:**</font> \n",
        "\n",
        "\n",
        "\n",
        "## What is the level of difficulty for this homework?\n",
        "you can put only number between $0:10$ ($0:$ easy, $10:$ difficult)\n",
        "\n",
        "<font color='red'> **Answer:** </font>"
      ]
    },
    {
      "cell_type": "code",
      "metadata": {
        "id": "UUd-gbd-qQBF"
      },
      "source": [
        ""
      ],
      "execution_count": null,
      "outputs": []
    }
  ]
}